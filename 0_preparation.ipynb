{
 "cells": [
  {
   "cell_type": "markdown",
   "metadata": {},
   "source": [
    "### ライブラリのインストール\n",
    "\n",
    "このセルは、LangGraphおよび関連するLangChainライブラリをインストールします。実行には数分かかる場合があります。\n",
    "ご利用になるLLMプロバイダーに応じて、コメントアウトを解除して必要なライブラリをインストールしてください。"
   ]
  },
  {
   "cell_type": "code",
   "execution_count": null,
   "metadata": {},
   "outputs": [],
   "source": [
    "# === ライブラリのインストール ===\n",
    "# 基本ライブラリ (LangGraphとLangChain Core)\n",
    "!pip install -qU langchain langgraph"
   ]
  },
  {
   "cell_type": "code",
   "execution_count": null,
   "metadata": {},
   "outputs": [],
   "source": [
    "# --- LLMプロバイダー別ライブラリ ---\n",
    "# ご利用になるLLMプロバイダーに応じて、以下の該当する行のコメントを解除して実行してください。\n",
    "\n",
    "# OpenAI (GPTシリーズ)\n",
    "# !pip install -qU langchain_openai\n",
    "\n",
    "# Azure OpenAI\n",
    "# !pip install -qU langchain_openai # Azureもlangchain_openaiを利用\n",
    "\n",
    "# Google Cloud Vertex AI (Gemini, PaLM等)\n",
    "# !pip install -qU langchain_google_vertexai\n",
    "\n",
    "# Google Gemini API (Google AI Studioで利用するGemini)\n",
    "# !pip install -qU langchain_google_genai\n",
    "\n",
    "# Anthropic (Claudeシリーズ)\n",
    "# !pip install -qU langchain_anthropic\n",
    "\n",
    "# Amazon Bedrock (AWS上の各種モデル、Claudeも含む)\n",
    "# !pip install -qU langchain_aws boto3 # Bedrock利用時はboto3も必要"
   ]
  },
  {
   "cell_type": "code",
   "execution_count": null,
   "metadata": {},
   "outputs": [],
   "source": [
    "# --- その他の推奨ライブラリ ---\n",
    "# グラフの可視化や環境変数管理など、演習全体を通して利用する可能性のあるライブラリ\n",
    "!pip install -qU python-dotenv pygraphviz pydotplus graphviz"
   ]
  }
 ],
 "metadata": {
  "kernelspec": {
   "display_name": "Python 3",
   "language": "python",
   "name": "python3"
  },
  "language_info": {
   "codemirror_mode": {
    "name": "ipython",
    "version": 3
   },
   "file_extension": ".py",
   "mimetype": "text/x-python",
   "name": "python",
   "nbconvert_exporter": "python",
   "pygments_lexer": "ipython3",
   "version": "3.9.18"
  }
 },
 "nbformat": 4,
 "nbformat_minor": 4
}
